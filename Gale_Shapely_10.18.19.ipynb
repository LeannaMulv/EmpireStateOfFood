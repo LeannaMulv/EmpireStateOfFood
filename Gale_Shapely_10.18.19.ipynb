{
 "cells": [
  {
   "cell_type": "code",
   "execution_count": 1,
   "metadata": {},
   "outputs": [],
   "source": [
    "import numpy as np\n",
    "import pandas as pd\n",
    "import time"
   ]
  },
  {
   "cell_type": "code",
   "execution_count": null,
   "metadata": {},
   "outputs": [],
   "source": [
    "#cite: https://www.kaggle.com/selfishgene/nothing-fancy-just-some-heuristics-0-9374"
   ]
  },
  {
   "cell_type": "code",
   "execution_count": 3,
   "metadata": {},
   "outputs": [
    {
     "name": "stdout",
     "output_type": "stream",
     "text": [
      "loading data...\n"
     ]
    },
    {
     "name": "stderr",
     "output_type": "stream",
     "text": [
      "/Users/leannamulvihill/anaconda3/lib/python3.7/site-packages/ipykernel_launcher.py:4: FutureWarning: Method .as_matrix will be removed in a future version. Use .values instead.\n",
      "  after removing the cwd from sys.path.\n",
      "/Users/leannamulvihill/anaconda3/lib/python3.7/site-packages/ipykernel_launcher.py:5: FutureWarning: Method .as_matrix will be removed in a future version. Use .values instead.\n",
      "  \"\"\"\n"
     ]
    }
   ],
   "source": [
    "#%% load data\n",
    "print('loading data...')\n",
    "\n",
    "farmerPref = pd.read_csv('Farmer_preferences.csv', header=None).as_matrix()[:, 1:]\n",
    "buyerPref = pd.read_csv('Buyer_preferences.csv' , header=None).as_matrix()[:, 1:]\n",
    "\n",
    "numBuyers = buyerPref.shape[0] #child is buyer\n",
    "numFarmers = farmerPref.shape[0] #farmer is gift/santa\n",
    "numFarmersPerBuyer = numBuyers / numFarmers #HEY LEANNA watch out - not every farmer is going to get matched"
   ]
  },
  {
   "cell_type": "code",
   "execution_count": 18,
   "metadata": {},
   "outputs": [
    {
     "name": "stdout",
     "output_type": "stream",
     "text": [
      "creating buyer vs. farmer value matrix...\n"
     ]
    }
   ],
   "source": [
    "#%% create lookup matrix\n",
    "print('creating buyer vs. farmer value matrix...')\n",
    "buyerPreferenceMatrix = -1*np.ones((numBuyers,numFarmers),np.float32)\n",
    "for buyerID in range(numBuyers):\n",
    "    for farmerOrder, farmID in enumerate(buyerPref[buyerID,:]):\n",
    "        #buyerPreferenceMatrix[buyerID,farmID] = 2*(15 - farmerOrder) \n",
    "        buyerPreferenceMatrix[buyerID,farmID] = (15 - farmerOrder)\n",
    "        \n",
    "farmerPreferenceMatrix = -1*np.ones((numBuyers,numFarmers),np.float32)\n",
    "for farmID in range(numFarmers):\n",
    "    for buyerOrder, buyerID in enumerate(farmerPref[farmID,:]):\n",
    "        #farmerPreferenceMatrix[buyerID,farmID] = 2*(5 - buyerOrder)\n",
    "        farmerPreferenceMatrix[buyerID,farmID] = (5 - buyerOrder)\n",
    "\n",
    "#buyer_vs_farmer_matrix =  buyerPreferenceMatrix/(20.0*numBuyers)\n",
    "buyer_vs_farmer_matrix =  buyerPreferenceMatrix/(numBuyers)\n",
    "#buyer_vs_farmer_matrix += farmerPreferenceMatrix/(2000000.0*numFarmers)\n",
    "buyer_vs_farmer_matrix += farmerPreferenceMatrix/(numFarmers)\n",
    "buyer_vs_farmer_matrix = buyer_vs_farmer_matrix.astype(np.float32)\n",
    "\n",
    "# del buyerPreferenceMatrix\n",
    "# del farmerPreferenceMatrix"
   ]
  },
  {
   "cell_type": "code",
   "execution_count": 19,
   "metadata": {},
   "outputs": [],
   "source": [
    "# print(buyerPreferenceMatrix) #this looks good\n",
    "# print(farmerPreferenceMatrix) #does it make sense that this matrix is the same size as buyerPreferenceMatrix? Yes.\n",
    "# print(buyer_vs_farmer_matrix.shape) #looks good"
   ]
  },
  {
   "cell_type": "code",
   "execution_count": 21,
   "metadata": {},
   "outputs": [],
   "source": [
    "# scoring function\n",
    "def calculateTotalHappiness(pred):\n",
    "    totalHappiness = 0\n",
    "\n",
    "    for i in range(numBuyers):\n",
    "        buyer_id = i\n",
    "        farmer_id = pred[i]\n",
    "        totalHappiness += buyer_vs_farmer_matrix[buyer_id,farmer_id]\n",
    "        \n",
    "    return totalHappiness"
   ]
  },
  {
   "cell_type": "code",
   "execution_count": 29,
   "metadata": {},
   "outputs": [],
   "source": [
    "def AssignFarmers_GreedyBuyers_Adaptive(buyer_vs_farmer_selection_matrix=buyer_vs_farmer_matrix, numPasses=15):\n",
    "    buyer_vs_farmer_selection_matrix = buyer_vs_farmer_selection_matrix.copy()\n",
    "    \n",
    "    farmerAssignment = -np.ones((numBuyers), dtype=np.int32)\n",
    "    farmerCount      = np.zeros((numFarmers),    dtype=np.int32)\n",
    "    \n",
    "    print('-'*40)\n",
    "    startTime  = time.time()\n",
    "            \n",
    "    print('starting adaptive pass over the buyers')\n",
    "    buyersPerPass = int(1+(numBuyers) / (numPasses+1.0))\n",
    "    \n",
    "    # at each pass we lower a threshold and assign gift to childern that are above the threshold\n",
    "    for k in range(numPasses+1):\n",
    "        # sort the children accroding to the maximum possible matrix value of each child\n",
    "        maxValuePerBuyer = buyer_vs_farmer_selection_matrix.max(axis=1)\n",
    "        sortedBuyers   = (maxValuePerBuyer.argsort())[::-1]\n",
    "        \n",
    "        thresholdBuyerInd   = numBuyers-1        \n",
    "        assignmentThreshold = maxValuePerBuyer[thresholdBuyerInd]\n",
    "\n",
    "        numAssignedSoFar = (farmerAssignment > -1).sum()        \n",
    "        if (numAssignedSoFar > (0.99*numBuyers)) or (k >= (numPasses)):\n",
    "            # make this last iteration\n",
    "            assignmentThreshold = buyer_vs_farmer_selection_matrix.min() - 1.0\n",
    "            thresholdBuyerInd = len(sortedBuyers)\n",
    "            \n",
    "        if numAssignedSoFar >= numBuyers:\n",
    "            break\n",
    "        \n",
    "        for buyerInd in sortedBuyers[:thresholdBuyerInd]:\n",
    "            # don't assign gifts unless high on priority list ( larger than 'assignmentThreshold' )\n",
    "            if farmerAssignment[buyerInd] == -1 and buyer_vs_farmer_selection_matrix[buyerInd,:].max() >= assignmentThreshold:\n",
    "                selectedFarmer = buyer_vs_farmer_selection_matrix[buyerInd,:].argmax()\n",
    "        \n",
    "                farmerAssignment[buyerInd] = selectedFarmer\n",
    "                farmerCount[selectedFarmer] += 1\n",
    "                \n",
    "                if farmerCount[selectedFarmer] >= numFarmersPerBuyer:\n",
    "                    buyer_vs_farmer_selection_matrix[:,selectedFarmer] = -1.0\n",
    "                    \n",
    "        print('pass %d: total assigned so far = %d' %(k+1,(farmerAssignment > -1).sum()))\n",
    "\n",
    "    print('finished %d adaptive passes. took %.3f seconds' %(k+1, time.time()-startTime))\n",
    "    assignmentScore = calculateTotalHappiness(farmerAssignment)\n",
    "    print('-'*40)\n",
    "\n",
    "    return farmerAssignment, assignmentScore"
   ]
  },
  {
   "cell_type": "code",
   "execution_count": 30,
   "metadata": {},
   "outputs": [
    {
     "name": "stdout",
     "output_type": "stream",
     "text": [
      "normalizing rows and columns of the value matrix\n"
     ]
    }
   ],
   "source": [
    "#%% normalize rows and columns of the assignment value matrix\n",
    "print('normalizing rows and columns of the value matrix')\n",
    "startingMatrix = buyer_vs_farmer_matrix.copy()\n",
    "startingMatrix -= startingMatrix.min()\n",
    "startingMatrix /= startingMatrix.max()"
   ]
  },
  {
   "cell_type": "code",
   "execution_count": 32,
   "metadata": {},
   "outputs": [
    {
     "name": "stdout",
     "output_type": "stream",
     "text": [
      "assign farmers to buyers in a buyer centered greedy fashion\n",
      "----------------------------------------\n",
      "starting adaptive pass over the buyers\n",
      "pass 1: total assigned so far = 1\n",
      "pass 2: total assigned so far = 2\n",
      "pass 3: total assigned so far = 3\n",
      "pass 4: total assigned so far = 4\n",
      "pass 5: total assigned so far = 5\n",
      "finished 6 adaptive passes. took 0.002 seconds\n",
      "----------------------------------------\n",
      "predicted score = 14.66666627\n"
     ]
    }
   ],
   "source": [
    "# create an assignment vector from the child vs. gift value matrix\n",
    "print('assign farmers to buyers in a buyer centered greedy fashion')\n",
    "pred, score = AssignFarmers_GreedyBuyers_Adaptive(startingMatrix, numPasses=16)\n",
    "print('predicted score = %.8f' %(score))"
   ]
  },
  {
   "cell_type": "code",
   "execution_count": 33,
   "metadata": {},
   "outputs": [],
   "source": [
    "#%% create a submission\n",
    "out = open('heuristicSub.csv', 'w')\n",
    "out.write('buyerId,farmId\\n')\n",
    "for i in range(len(pred)):\n",
    "    out.write(str(i) + ',' + str(pred[i]) + '\\n')\n",
    "out.close()"
   ]
  },
  {
   "cell_type": "code",
   "execution_count": null,
   "metadata": {},
   "outputs": [],
   "source": []
  }
 ],
 "metadata": {
  "kernelspec": {
   "display_name": "Python 3",
   "language": "python",
   "name": "python3"
  },
  "language_info": {
   "codemirror_mode": {
    "name": "ipython",
    "version": 3
   },
   "file_extension": ".py",
   "mimetype": "text/x-python",
   "name": "python",
   "nbconvert_exporter": "python",
   "pygments_lexer": "ipython3",
   "version": "3.7.2"
  }
 },
 "nbformat": 4,
 "nbformat_minor": 2
}
