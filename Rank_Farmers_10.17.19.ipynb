{
 "cells": [
  {
   "cell_type": "code",
   "execution_count": null,
   "metadata": {},
   "outputs": [],
   "source": [
    "#every farmer is ranked for every product\n",
    "# make dummy data for 3 kale orders"
   ]
  },
  {
   "cell_type": "code",
   "execution_count": 1,
   "metadata": {},
   "outputs": [],
   "source": [
    "import pandas as pd "
   ]
  },
  {
   "cell_type": "code",
   "execution_count": 2,
   "metadata": {},
   "outputs": [],
   "source": [
    "def score_farmers(trans_rec):\n",
    "    score = 5 #a successful transaction is +1, an unsuccessful transaction is -1\n",
    "    all_scores = []\n",
    "    \n",
    "    for i in trans_rec:\n",
    "        #print(i)\n",
    "        score = 5\n",
    "        for j in i:\n",
    "            #print(j)\n",
    "            score += j/len(i)\n",
    "            #print(score)\n",
    "        all_scores.append(score)\n",
    "        #break\n",
    "    return all_scores          "
   ]
  },
  {
   "cell_type": "code",
   "execution_count": 4,
   "metadata": {},
   "outputs": [],
   "source": [
    "if __name__ == \"__main__\":\n",
    "    data=pd.read_csv('KaleData.csv')\n",
    "\n",
    "    Transaction1=data['Transaction1'].dropna().tolist()\n",
    "    Transaction2=data['Transaction2'].dropna().tolist()\n",
    "    Transaction3=data['Transaction3'].dropna().tolist()\n",
    "\n",
    "    Transaction1 = [int(b) for b in Transaction1]\n",
    "    Transaction2 = [int(b) for b in Transaction2]\n",
    "    Transaction3 = [int(b) for b in Transaction3]\n",
    "\n",
    "    trans_rec = list(zip(Transaction1, Transaction2, Transaction3))\n",
    "#     print(trans_rec)\n",
    "\n",
    "    #make a list for the mu of buyers - lbs of kale purchased per year\n",
    "    buyers_mu = []\n",
    "\n",
    "    buyer_q = data['FarmersOrBuyers1'].tolist() \n",
    "    mu = data['mu'].tolist()\n",
    "\n",
    "    # print(buyer_q)\n",
    "\n",
    "    for i,j in zip(buyer_q, mu):\n",
    "        if i == -1:\n",
    "            buyers_mu.append(j)\n",
    "#     print(buyers_mu)\n",
    "\n",
    "    #make a list for the mu of farmers - lbs of kale sold per year - need better data for this\n",
    "    farmers_mu = []\n",
    "\n",
    "    farmers_q = data['FarmersOrBuyers1'].tolist() \n",
    "    mu = data['mu'].tolist()\n",
    "\n",
    "    for i,j in zip(farmers_q, mu):\n",
    "        if i == 1:\n",
    "            farmers_mu.append(j)\n"
   ]
  },
  {
   "cell_type": "code",
   "execution_count": 5,
   "metadata": {},
   "outputs": [
    {
     "name": "stdout",
     "output_type": "stream",
     "text": [
      "[5.333333333333333, 4.666666666666667, 5.999999999999999, 5.333333333333333, 4.666666666666667, 5.999999999999999, 5.333333333333333, 4.666666666666667, 5.999999999999999, 5.333333333333333, 4.666666666666667, 5.999999999999999, 5.333333333333333, 4.666666666666667, 5.999999999999999]\n"
     ]
    }
   ],
   "source": [
    "all_scores = score_farmers(trans_rec)\n",
    "print(all_scores) # quality score for farmers"
   ]
  },
  {
   "cell_type": "code",
   "execution_count": 69,
   "metadata": {},
   "outputs": [],
   "source": [
    "# def rank_farmers(buyers_mu, farmers_mu, all_scores):    \n",
    "per_buyer_matches = {}\n",
    "buyer_matches = []\n",
    "\n",
    "\n",
    "for i in buyers_mu:\n",
    "    match_list = []\n",
    "#     print(i)\n",
    "#     print('new buyer')\n",
    "    for j in farmers_mu:\n",
    "#         print(j)\n",
    "        percent_match = j/i\n",
    "#         print(percent_match)\n",
    "        if percent_match > 1:\n",
    "            scale_match = 10\n",
    "        else:\n",
    "            scale_match = percent_match*10\n",
    "        match_list.append(scale_match)\n",
    "#     print(match_list)\n",
    "#     break\n",
    "        ###\n",
    "    composite_score = list(zip(match_list, all_scores))\n",
    "    composite_score_sum = list(map(sum, composite_score))\n",
    "#     print('composite score')\n",
    "#     print(composite_score_sum)\n",
    "#         ###\n",
    "    per_buyer_matches[i] = (composite_score_sum)\n",
    "#    print(per_buyer_matches)\n",
    "#     break\n",
    "#     print(\"loop!\")\n",
    "#     buyer_matches.append(per_buyer_matches)\n",
    "    # print(len(buyer_matches))\n",
    "\n",
    "# print(per_buyer_matches)\n",
    "\n",
    "#quantity score for farmers"
   ]
  },
  {
   "cell_type": "code",
   "execution_count": 70,
   "metadata": {},
   "outputs": [
    {
     "data": {
      "text/html": [
       "<div>\n",
       "<style scoped>\n",
       "    .dataframe tbody tr th:only-of-type {\n",
       "        vertical-align: middle;\n",
       "    }\n",
       "\n",
       "    .dataframe tbody tr th {\n",
       "        vertical-align: top;\n",
       "    }\n",
       "\n",
       "    .dataframe thead th {\n",
       "        text-align: right;\n",
       "    }\n",
       "</style>\n",
       "<table border=\"1\" class=\"dataframe\">\n",
       "  <thead>\n",
       "    <tr style=\"text-align: right;\">\n",
       "      <th></th>\n",
       "      <th>3600.0</th>\n",
       "      <th>8280.0</th>\n",
       "      <th>96012.0</th>\n",
       "      <th>114660.0</th>\n",
       "      <th>356076.0</th>\n",
       "    </tr>\n",
       "  </thead>\n",
       "  <tbody>\n",
       "    <tr>\n",
       "      <th>0</th>\n",
       "      <td>[10.666666666666666, 10.0, 11.333333333333332,...</td>\n",
       "      <td>[7.6521739130434785, 6.985507246376812, 8.3188...</td>\n",
       "      <td>[5.533308336457942, 4.866641669791276, 6.19997...</td>\n",
       "      <td>[5.5007849293563575, 4.8341182626896915, 6.167...</td>\n",
       "      <td>[5.387254406362686, 4.72058773969602, 6.053921...</td>\n",
       "    </tr>\n",
       "  </tbody>\n",
       "</table>\n",
       "</div>"
      ],
      "text/plain": [
       "                                            3600.0    \\\n",
       "0  [10.666666666666666, 10.0, 11.333333333333332,...   \n",
       "\n",
       "                                            8280.0    \\\n",
       "0  [7.6521739130434785, 6.985507246376812, 8.3188...   \n",
       "\n",
       "                                            96012.0   \\\n",
       "0  [5.533308336457942, 4.866641669791276, 6.19997...   \n",
       "\n",
       "                                            114660.0  \\\n",
       "0  [5.5007849293563575, 4.8341182626896915, 6.167...   \n",
       "\n",
       "                                            356076.0  \n",
       "0  [5.387254406362686, 4.72058773969602, 6.053921...  "
      ]
     },
     "execution_count": 70,
     "metadata": {},
     "output_type": "execute_result"
    }
   ],
   "source": [
    "buyer_pref = pd.DataFrame([per_buyer_matches]) #, columns = ['Farm1', 'Farm2', 'Farm3', 'Farm4', 'Farm5', 'Farm6', 'Farm7', 'Farm8', 'Farm9', 'Farm10', 'Farm11', 'Farm12', 'Farm13', 'Farm14', 'Farm15'])\n",
    "buyer_pref.head()"
   ]
  },
  {
   "cell_type": "code",
   "execution_count": 71,
   "metadata": {},
   "outputs": [],
   "source": [
    "buyer_pref.to_csv('Buyer_preferences.csv', encoding='utf-8', index=False)"
   ]
  },
  {
   "cell_type": "code",
   "execution_count": null,
   "metadata": {},
   "outputs": [],
   "source": []
  }
 ],
 "metadata": {
  "kernelspec": {
   "display_name": "Python 3",
   "language": "python",
   "name": "python3"
  },
  "language_info": {
   "codemirror_mode": {
    "name": "ipython",
    "version": 3
   },
   "file_extension": ".py",
   "mimetype": "text/x-python",
   "name": "python",
   "nbconvert_exporter": "python",
   "pygments_lexer": "ipython3",
   "version": "3.7.2"
  }
 },
 "nbformat": 4,
 "nbformat_minor": 2
}
