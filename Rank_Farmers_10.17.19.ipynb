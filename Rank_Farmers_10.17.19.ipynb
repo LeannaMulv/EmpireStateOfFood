{
 "cells": [
  {
   "cell_type": "code",
   "execution_count": 1,
   "metadata": {},
   "outputs": [],
   "source": [
    "#every farmer is ranked for every product\n",
    "# make dummy data for 3 kale orders"
   ]
  },
  {
   "cell_type": "code",
   "execution_count": 2,
   "metadata": {},
   "outputs": [],
   "source": [
    "import pandas as pd "
   ]
  },
  {
   "cell_type": "code",
   "execution_count": 3,
   "metadata": {},
   "outputs": [],
   "source": [
    "def score_farmers(trans_rec):\n",
    "    score = 5 #a successful transaction is +1, an unsuccessful transaction is -1\n",
    "    all_scores = []\n",
    "    \n",
    "    for i in trans_rec:\n",
    "        #print(i)\n",
    "        score = 5\n",
    "        for j in i:\n",
    "            #print(j)\n",
    "            score += j/len(i)\n",
    "            #print(score)\n",
    "        all_scores.append(score)\n",
    "        #break\n",
    "    return all_scores          "
   ]
  },
  {
   "cell_type": "code",
   "execution_count": 4,
   "metadata": {},
   "outputs": [],
   "source": [
    "if __name__ == \"__main__\":\n",
    "    data=pd.read_csv('Poughkeepsie_Kingston_Route.csv')\n",
    "\n",
    "    Transaction1=data['Transaction1'].dropna().tolist()\n",
    "    Transaction2=data['Transaction2'].dropna().tolist()\n",
    "    Transaction3=data['Transaction3'].dropna().tolist()\n",
    "\n",
    "    Transaction1 = [int(b) for b in Transaction1]\n",
    "    Transaction2 = [int(b) for b in Transaction2]\n",
    "    Transaction3 = [int(b) for b in Transaction3]\n",
    "\n",
    "    trans_rec = list(zip(Transaction1, Transaction2, Transaction3))\n",
    "#     print(trans_rec)\n",
    "\n",
    "    #make a list for the mu of buyers - lbs of kale purchased per year\n",
    "    buyers_mu = []\n",
    "\n",
    "    buyer_q = data['FarmersOrBuyers1'].tolist() \n",
    "    mu = data['mu'].tolist()\n",
    "\n",
    "    # print(buyer_q)\n",
    "\n",
    "    for i,j in zip(buyer_q, mu):\n",
    "        if i == -1:\n",
    "            buyers_mu.append(j)\n",
    "#     print(buyers_mu)\n",
    "\n",
    "    #make a list for the mu of farmers - lbs of kale sold per year - need better data for this\n",
    "    farmers_mu = []\n",
    "\n",
    "    farmers_q = data['FarmersOrBuyers1'].tolist() \n",
    "    mu = data['mu'].tolist()\n",
    "\n",
    "    for i,j in zip(farmers_q, mu):\n",
    "        if i == 1:\n",
    "            farmers_mu.append(j)\n"
   ]
  },
  {
   "cell_type": "code",
   "execution_count": 5,
   "metadata": {},
   "outputs": [
    {
     "name": "stdout",
     "output_type": "stream",
     "text": [
      "[5.333333333333333, 4.666666666666667, 5.999999999999999, 5.333333333333333, 4.666666666666667, 5.999999999999999, 5.333333333333333, 5.999999999999999, 5.333333333333333, 4.666666666666667]\n"
     ]
    }
   ],
   "source": [
    "all_scores = score_farmers(trans_rec)\n",
    "print(all_scores) # quality score for farmers"
   ]
  },
  {
   "cell_type": "code",
   "execution_count": 17,
   "metadata": {},
   "outputs": [
    {
     "name": "stdout",
     "output_type": "stream",
     "text": [
      "<class 'dict'>\n",
      "<class 'dict'>\n",
      "<class 'dict'>\n",
      "<class 'dict'>\n",
      "{114660.0: [5.5007849293563575, 4.8341182626896915, 6.167451596023024, 5.5007849293563575, 4.8341182626896915, 6.167451596023024, 5.5007849293563575, 6.940753532182103, 6.274086865515437, 5.607420198848771], 96012.0: [5.533308336457942, 4.866641669791276, 6.199975003124608, 5.533308336457942, 4.866641669791276, 6.199975003124608, 5.533308336457942, 7.12347206599175, 6.456805399325084, 5.790138732658418], 356076.0: [5.387254406362686, 4.72058773969602, 6.053921073029352, 5.387254406362686, 4.72058773969602, 6.053921073029352, 5.387254406362686, 6.302931958345971, 5.636265291679305, 4.9695986250126385], 8280.0: [7.6521739130434785, 6.985507246376812, 8.318840579710145, 7.6521739130434785, 6.985507246376812, 8.318840579710145, 7.6521739130434785, 16.0, 15.333333333333332, 14.666666666666668]}\n"
     ]
    }
   ],
   "source": [
    "# def rank_farmers(buyers_mu, farmers_mu, all_scores):    \n",
    "per_buyer_matches = {}\n",
    "buyer_matches = []\n",
    "\n",
    "\n",
    "for i in buyers_mu:\n",
    "    match_list = []\n",
    "#     print(i)\n",
    "#     print('new buyer')\n",
    "    for j in farmers_mu:\n",
    "#         print(j)\n",
    "        percent_match = j/i\n",
    "#         print(percent_match)\n",
    "        if percent_match > 1:\n",
    "            scale_match = 10\n",
    "        else:\n",
    "            scale_match = percent_match*10\n",
    "        match_list.append(scale_match)\n",
    "#     print(match_list)\n",
    "#     break\n",
    "        ###\n",
    "    composite_score = list(zip(match_list, all_scores))\n",
    "    composite_score_sum = list(map(sum, composite_score))\n",
    "#     print('composite score')\n",
    "#     print(composite_score_sum)\n",
    "#         ###\n",
    "    per_buyer_matches[i] = (composite_score_sum)\n",
    "    print(type(per_buyer_matches))\n",
    "#     break\n",
    "#     print(\"loop!\")\n",
    "#     buyer_matches.append(per_buyer_matches)\n",
    "    # print(len(buyer_matches))\n",
    "\n",
    "print(per_buyer_matches)\n",
    "\n",
    "#quantity score for farmers"
   ]
  },
  {
   "cell_type": "code",
   "execution_count": 18,
   "metadata": {},
   "outputs": [
    {
     "data": {
      "text/html": [
       "<div>\n",
       "<style scoped>\n",
       "    .dataframe tbody tr th:only-of-type {\n",
       "        vertical-align: middle;\n",
       "    }\n",
       "\n",
       "    .dataframe tbody tr th {\n",
       "        vertical-align: top;\n",
       "    }\n",
       "\n",
       "    .dataframe thead th {\n",
       "        text-align: right;\n",
       "    }\n",
       "</style>\n",
       "<table border=\"1\" class=\"dataframe\">\n",
       "  <thead>\n",
       "    <tr style=\"text-align: right;\">\n",
       "      <th></th>\n",
       "      <th>0</th>\n",
       "      <th>1</th>\n",
       "      <th>2</th>\n",
       "      <th>3</th>\n",
       "      <th>4</th>\n",
       "      <th>5</th>\n",
       "      <th>6</th>\n",
       "      <th>7</th>\n",
       "      <th>8</th>\n",
       "      <th>9</th>\n",
       "    </tr>\n",
       "  </thead>\n",
       "  <tbody>\n",
       "    <tr>\n",
       "      <th>114660.0</th>\n",
       "      <td>5.500785</td>\n",
       "      <td>4.834118</td>\n",
       "      <td>6.167452</td>\n",
       "      <td>5.500785</td>\n",
       "      <td>4.834118</td>\n",
       "      <td>6.167452</td>\n",
       "      <td>5.500785</td>\n",
       "      <td>6.940754</td>\n",
       "      <td>6.274087</td>\n",
       "      <td>5.607420</td>\n",
       "    </tr>\n",
       "    <tr>\n",
       "      <th>96012.0</th>\n",
       "      <td>5.533308</td>\n",
       "      <td>4.866642</td>\n",
       "      <td>6.199975</td>\n",
       "      <td>5.533308</td>\n",
       "      <td>4.866642</td>\n",
       "      <td>6.199975</td>\n",
       "      <td>5.533308</td>\n",
       "      <td>7.123472</td>\n",
       "      <td>6.456805</td>\n",
       "      <td>5.790139</td>\n",
       "    </tr>\n",
       "    <tr>\n",
       "      <th>356076.0</th>\n",
       "      <td>5.387254</td>\n",
       "      <td>4.720588</td>\n",
       "      <td>6.053921</td>\n",
       "      <td>5.387254</td>\n",
       "      <td>4.720588</td>\n",
       "      <td>6.053921</td>\n",
       "      <td>5.387254</td>\n",
       "      <td>6.302932</td>\n",
       "      <td>5.636265</td>\n",
       "      <td>4.969599</td>\n",
       "    </tr>\n",
       "    <tr>\n",
       "      <th>8280.0</th>\n",
       "      <td>7.652174</td>\n",
       "      <td>6.985507</td>\n",
       "      <td>8.318841</td>\n",
       "      <td>7.652174</td>\n",
       "      <td>6.985507</td>\n",
       "      <td>8.318841</td>\n",
       "      <td>7.652174</td>\n",
       "      <td>16.000000</td>\n",
       "      <td>15.333333</td>\n",
       "      <td>14.666667</td>\n",
       "    </tr>\n",
       "  </tbody>\n",
       "</table>\n",
       "</div>"
      ],
      "text/plain": [
       "                 0         1         2         3         4         5  \\\n",
       "114660.0  5.500785  4.834118  6.167452  5.500785  4.834118  6.167452   \n",
       "96012.0   5.533308  4.866642  6.199975  5.533308  4.866642  6.199975   \n",
       "356076.0  5.387254  4.720588  6.053921  5.387254  4.720588  6.053921   \n",
       "8280.0    7.652174  6.985507  8.318841  7.652174  6.985507  8.318841   \n",
       "\n",
       "                 6          7          8          9  \n",
       "114660.0  5.500785   6.940754   6.274087   5.607420  \n",
       "96012.0   5.533308   7.123472   6.456805   5.790139  \n",
       "356076.0  5.387254   6.302932   5.636265   4.969599  \n",
       "8280.0    7.652174  16.000000  15.333333  14.666667  "
      ]
     },
     "execution_count": 18,
     "metadata": {},
     "output_type": "execute_result"
    }
   ],
   "source": [
    "buyer_pref1 = pd.DataFrame.from_dict(per_buyer_matches, orient='index')\n",
    "buyer_pref1.head()"
   ]
  },
  {
   "cell_type": "code",
   "execution_count": 19,
   "metadata": {},
   "outputs": [],
   "source": [
    "buyer_pref1.to_csv('Buyer_preferences.csv', encoding='utf-8', index=False)"
   ]
  },
  {
   "cell_type": "code",
   "execution_count": null,
   "metadata": {},
   "outputs": [],
   "source": []
  }
 ],
 "metadata": {
  "kernelspec": {
   "display_name": "Python 3",
   "language": "python",
   "name": "python3"
  },
  "language_info": {
   "codemirror_mode": {
    "name": "ipython",
    "version": 3
   },
   "file_extension": ".py",
   "mimetype": "text/x-python",
   "name": "python",
   "nbconvert_exporter": "python",
   "pygments_lexer": "ipython3",
   "version": "3.7.2"
  }
 },
 "nbformat": 4,
 "nbformat_minor": 2
}
